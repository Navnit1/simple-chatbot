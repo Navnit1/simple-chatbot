{
  "nbformat": 4,
  "nbformat_minor": 0,
  "metadata": {
    "colab": {
      "provenance": []
    },
    "kernelspec": {
      "name": "python3",
      "display_name": "Python 3"
    },
    "language_info": {
      "name": "python"
    }
  },
  "cells": [
    {
      "cell_type": "code",
      "execution_count": null,
      "metadata": {
        "colab": {
          "base_uri": "https://localhost:8080/"
        },
        "id": "DcU6dW2V0Y7E",
        "outputId": "54c1a0b5-9d85-439e-85d4-4cb0484c7f15"
      },
      "outputs": [
        {
          "output_type": "stream",
          "name": "stdout",
          "text": [
            "Simple Chatbot: Hi! I'm your chatbot assistant. Type 'bye' to exit.\n",
            "You: hi\n",
            "Chatbot: Hello! How can I help you today?\n"
          ]
        }
      ],
      "source": [
        "\n",
        "\n",
        "# Define responses\n",
        "responses = {\n",
        "    \"hi\": \"Hello! How can I help you today?\",\n",
        "    \"hello\": \"Hi there! What can I do for you?\",\n",
        "    \"how are you\": \"I'm just a chatbot, but I'm functioning well! How about you?\",\n",
        "    \"what's your name\": \"I'm a simple chatbot created for an internship project.\",\n",
        "    \"what can you do\": \"I can respond to basic greetings and questions. Try asking me something!\",\n",
        "    \"bye\": \"Goodbye! Have a great day!\",\n",
        "    \"default\": \"I'm not sure how to respond to that. Can you try asking differently?\"\n",
        "}\n",
        "\n",
        "# Function to get bot response\n",
        "def get_response(user_input):\n",
        "    user_input = user_input.lower()\n",
        "    for key in responses:\n",
        "        if key in user_input and key != 'default':\n",
        "            return responses[key]\n",
        "    return responses['default']\n",
        "\n",
        "# Main chat loop\n",
        "print(\"Simple Chatbot: Hi! I'm your chatbot assistant. Type 'bye' to exit.\")\n",
        "while True:\n",
        "    user_input = input(\"You: \")\n",
        "    if user_input.lower() == 'bye':\n",
        "        print(\"Chatbot: \" + responses['bye'])\n",
        "        break\n",
        "    response = get_response(user_input)\n",
        "    print(\"Chatbot: \" + response)\n",
        "\n"
      ]
    }
  ]
}